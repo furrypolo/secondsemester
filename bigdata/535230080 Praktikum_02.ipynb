{
  "cells": [
    {
      "cell_type": "code",
      "execution_count": 4,
      "metadata": {
        "colab": {
          "base_uri": "https://localhost:8080/"
        },
        "id": "PENP8cYDCYxN",
        "outputId": "29a80102-9148-497e-c308-403bccc083b9"
      },
      "outputs": [
        {
          "name": "stdout",
          "output_type": "stream",
          "text": [
            "Mounted at /content/drive\n"
          ]
        }
      ],
      "source": [
        "#Georgia Sugisandhea/535230080\n",
        "#Mengimport data dari google drive\n",
        "from google.colab import drive\n",
        "drive.mount('/content/drive')"
      ]
    },
    {
      "cell_type": "code",
      "execution_count": 8,
      "metadata": {
        "id": "uUXOiEFzDCq1"
      },
      "outputs": [],
      "source": [
        "#Untuk membaca dataset yang sudah di import\n",
        "import numpy as np"
      ]
    },
    {
      "cell_type": "code",
      "execution_count": 7,
      "metadata": {
        "id": "ltQpnp9pDSRn"
      },
      "outputs": [],
      "source": [
        "#Mendefinisikan path data yang dipakai\n",
        "data_path = \"/content/drive/MyDrive/Big Data/Praktikum 02/ClassicCars.csv\""
      ]
    },
    {
      "cell_type": "code",
      "execution_count": 9,
      "metadata": {
        "id": "sU5b1gCWFpfo"
      },
      "outputs": [],
      "source": [
        "#Mendefinisikan tipe tipe data yang dimasukkan karena numpy tidak dapat membaca file dengan tipe data yang berbeda\n",
        "types = ['U20', 'U10', 'U5', 'U20', 'U3', 'f4', 'f4', 'f4', 'f4', 'U10', 'i4', 'i4', 'i4', 'i4', 'i4']\n",
        "\n",
        "#Setelah di definisikan, numpy membaca dataset\n",
        "data = np.genfromtxt(data_path, dtype=types, delimiter=',', names=True)"
      ]
    },
    {
      "cell_type": "code",
      "execution_count": 10,
      "metadata": {
        "id": "U8R3d6uUIWZO"
      },
      "outputs": [],
      "source": [
        "#Mencantumkan path data file yang digunakan\n",
        "data_path = \"Praktikum02/ClassicCars.csv\""
      ]
    },
    {
      "cell_type": "code",
      "execution_count": 12,
      "metadata": {
        "colab": {
          "base_uri": "https://localhost:8080/"
        },
        "id": "LhCumSRsIg84",
        "outputId": "6a27a030-c9b3-4098-87f7-10a0b77cb073"
      },
      "outputs": [
        {
          "name": "stdout",
          "output_type": "stream",
          "text": [
            "The Shape of the array  (205,)\n"
          ]
        }
      ],
      "source": [
        "#Untuk mengambil nama nama kolom dari dataset\n",
        "data.dtype.names\n",
        "\n",
        "#Untuk mengambil bentuk array dan ukuran dari dataset.\n",
        "#Output dari coding ini menunjukkan bahwa ada 205 entri informasi data dalam dataset tersebut.\n",
        "print(\"The Shape of the array \", data.shape)"
      ]
    },
    {
      "cell_type": "code",
      "execution_count": 13,
      "metadata": {
        "colab": {
          "base_uri": "https://localhost:8080/"
        },
        "id": "rtTGmIKEIm1C",
        "outputId": "3f131447-c330-4223-ba49-06269a663643"
      },
      "outputs": [
        {
          "name": "stdout",
          "output_type": "stream",
          "text": [
            "['alfa-romero' 'alfa-romero' 'alfa-romero' 'audi' 'audi' 'audi' 'audi'\n",
            " 'audi' 'audi' 'audi' 'bmw' 'bmw' 'bmw' 'bmw' 'bmw' 'bmw' 'bmw' 'bmw'\n",
            " 'chevrolet' 'chevrolet' 'chevrolet' 'dodge' 'dodge' 'dodge' 'dodge'\n",
            " 'dodge' 'dodge' 'dodge' 'dodge' 'dodge' 'honda' 'honda' 'honda' 'honda'\n",
            " 'honda' 'honda' 'honda' 'honda' 'honda' 'honda' 'honda' 'honda' 'honda'\n",
            " 'isuzu' 'isuzu' 'isuzu' 'isuzu' 'jaguar' 'jaguar' 'jaguar' 'mazda'\n",
            " 'mazda' 'mazda' 'mazda' 'mazda' 'mazda' 'mazda' 'mazda' 'mazda' 'mazda'\n",
            " 'mazda' 'mazda' 'mazda' 'mazda' 'mazda' 'mazda' 'mazda' 'mercedes-benz'\n",
            " 'mercedes-benz' 'mercedes-benz' 'mercedes-benz' 'mercedes-benz'\n",
            " 'mercedes-benz' 'mercedes-benz' 'mercedes-benz' 'mercury' 'mitsubishi'\n",
            " 'mitsubishi' 'mitsubishi' 'mitsubishi' 'mitsubishi' 'mitsubishi'\n",
            " 'mitsubishi' 'mitsubishi' 'mitsubishi' 'mitsubishi' 'mitsubishi'\n",
            " 'mitsubishi' 'mitsubishi' 'nissan' 'nissan' 'nissan' 'nissan' 'nissan'\n",
            " 'nissan' 'nissan' 'nissan' 'nissan' 'nissan' 'nissan' 'nissan' 'nissan'\n",
            " 'nissan' 'nissan' 'nissan' 'nissan' 'nissan' 'peugot' 'peugot' 'peugot'\n",
            " 'peugot' 'peugot' 'peugot' 'peugot' 'peugot' 'peugot' 'peugot' 'peugot'\n",
            " 'plymouth' 'plymouth' 'plymouth' 'plymouth' 'plymouth' 'plymouth'\n",
            " 'plymouth' 'porsche' 'porsche' 'porsche' 'porsche' 'porsche' 'renault'\n",
            " 'renault' 'saab' 'saab' 'saab' 'saab' 'saab' 'saab' 'subaru' 'subaru'\n",
            " 'subaru' 'subaru' 'subaru' 'subaru' 'subaru' 'subaru' 'subaru' 'subaru'\n",
            " 'subaru' 'subaru' 'toyota' 'toyota' 'toyota' 'toyota' 'toyota' 'toyota'\n",
            " 'toyota' 'toyota' 'toyota' 'toyota' 'toyota' 'toyota' 'toyota' 'toyota'\n",
            " 'toyota' 'toyota' 'toyota' 'toyota' 'toyota' 'toyota' 'toyota' 'toyota'\n",
            " 'toyota' 'toyota' 'toyota' 'toyota' 'toyota' 'toyota' 'toyota' 'toyota'\n",
            " 'toyota' 'toyota' 'volkswagen' 'volkswagen' 'volkswagen' 'volkswagen'\n",
            " 'volkswagen' 'volkswagen' 'volkswagen' 'volkswagen' 'volkswagen'\n",
            " 'volkswagen' 'volkswagen' 'volkswagen' 'volvo' 'volvo' 'volvo' 'volvo'\n",
            " 'volvo' 'volvo' 'volvo' 'volvo' 'volvo' 'volvo' 'volvo']\n"
          ]
        },
        {
          "data": {
            "text/plain": [
              "array(['convertible', 'convertible', 'hatchback', 'sedan', 'sedan',\n",
              "       'sedan', 'sedan', 'wagon', 'sedan', 'hatchback', 'sedan', 'sedan',\n",
              "       'sedan', 'sedan', 'sedan', 'sedan', 'sedan', 'sedan', 'hatchback',\n",
              "       'hatchback', 'sedan', 'hatchback', 'hatchback', 'hatchback',\n",
              "       'hatchback', 'sedan', 'sedan', 'sedan', 'wagon', 'hatchback',\n",
              "       'hatchback', 'hatchback', 'hatchback', 'hatchback', 'hatchback',\n",
              "       'sedan', 'wagon', 'hatchback', 'hatchback', 'sedan', 'sedan',\n",
              "       'sedan', 'sedan', 'sedan', 'sedan', 'sedan', 'hatchback', 'sedan',\n",
              "       'sedan', 'sedan', 'hatchback', 'hatchback', 'hatchback', 'sedan',\n",
              "       'sedan', 'hatchback', 'hatchback', 'hatchback', 'hatchback',\n",
              "       'hatchback', 'sedan', 'hatchback', 'sedan', 'sedan', 'hatchback',\n",
              "       'sedan', 'sedan', 'sedan', 'wagon', 'hardtop', 'sedan', 'sedan',\n",
              "       'convertible', 'sedan', 'hardtop', 'hatchback', 'hatchback',\n",
              "       'hatchback', 'hatchback', 'hatchback', 'hatchback', 'hatchback',\n",
              "       'hatchback', 'hatchback', 'hatchback', 'sedan', 'sedan', 'sedan',\n",
              "       'sedan', 'sedan', 'sedan', 'sedan', 'sedan', 'wagon', 'sedan',\n",
              "       'hatchback', 'sedan', 'wagon', 'hardtop', 'hatchback', 'sedan',\n",
              "       'sedan', 'wagon', 'sedan', 'hatchback', 'hatchback', 'hatchback',\n",
              "       'sedan', 'sedan', 'wagon', 'wagon', 'sedan', 'sedan', 'wagon',\n",
              "       'wagon', 'sedan', 'sedan', 'sedan', 'hatchback', 'hatchback',\n",
              "       'hatchback', 'sedan', 'sedan', 'wagon', 'hatchback', 'hatchback',\n",
              "       'hardtop', 'hardtop', 'convertible', 'hatchback', 'wagon',\n",
              "       'hatchback', 'hatchback', 'sedan', 'hatchback', 'sedan',\n",
              "       'hatchback', 'sedan', 'hatchback', 'hatchback', 'hatchback',\n",
              "       'sedan', 'sedan', 'sedan', 'sedan', 'sedan', 'wagon', 'wagon',\n",
              "       'wagon', 'wagon', 'hatchback', 'hatchback', 'hatchback', 'wagon',\n",
              "       'wagon', 'wagon', 'sedan', 'hatchback', 'sedan', 'hatchback',\n",
              "       'sedan', 'hatchback', 'sedan', 'sedan', 'hatchback', 'sedan',\n",
              "       'hatchback', 'hardtop', 'hardtop', 'hatchback', 'hardtop',\n",
              "       'hatchback', 'convertible', 'sedan', 'sedan', 'hatchback', 'sedan',\n",
              "       'hatchback', 'hatchback', 'hatchback', 'sedan', 'wagon', 'sedan',\n",
              "       'sedan', 'sedan', 'sedan', 'sedan', 'sedan', 'sedan',\n",
              "       'convertible', 'hatchback', 'sedan', 'sedan', 'wagon', 'sedan',\n",
              "       'wagon', 'sedan', 'wagon', 'sedan', 'wagon', 'sedan', 'sedan',\n",
              "       'sedan', 'sedan', 'sedan'], dtype='<U20')"
            ]
          },
          "execution_count": 13,
          "metadata": {},
          "output_type": "execute_result"
        }
      ],
      "source": [
        "#Untuk output data-data di kolom yang bernama 'make'\n",
        "print(data['make'])\n",
        "\n",
        "#Untuk mengambil data-data yang ada di kolom bernama 'bodystyle'\n",
        "data['bodystyle']"
      ]
    },
    {
      "cell_type": "code",
      "execution_count": 14,
      "metadata": {
        "colab": {
          "base_uri": "https://localhost:8080/"
        },
        "id": "1INCDwaQKUCZ",
        "outputId": "42685f06-08ee-48f2-a5c6-3b2717ba71e8"
      },
      "outputs": [
        {
          "name": "stdout",
          "output_type": "stream",
          "text": [
            "Min car price: 5118\n",
            "Max xar price: 45400\n",
            "Range:  40282\n"
          ]
        }
      ],
      "source": [
        "#Mencari data terkecil dari data-data di kolom bernama 'price'\n",
        "#dan memasukkan ke variable min\n",
        "min=np.min(data['price'])\n",
        "\n",
        "#Mencari data terbesar dari data-data di kolom bernama 'price'\n",
        "#dan memasukkan ke variable max\n",
        "max=np.max(data['price'])\n",
        "\n",
        "print('Min car price:', min) #Mencetak variable min\n",
        "print('Max xar price:', max) #Mencetak variable max\n",
        "print('Range: ', max-min) #Mencetak selisih data terbesar dan terkecil dengan menguranginya"
      ]
    },
    {
      "cell_type": "code",
      "execution_count": 17,
      "metadata": {
        "colab": {
          "base_uri": "https://localhost:8080/"
        },
        "id": "aJ2jKRuyK4S8",
        "outputId": "dcf96464-f4c8-4ed7-a009-94efc0654209"
      },
      "outputs": [
        {
          "name": "stdout",
          "output_type": "stream",
          "text": [
            "Min car price: 5118\n",
            "Max car price: 45400\n",
            "Mean car price: 13300.239024390245\n",
            "Median car price: 10345.0\n"
          ]
        }
      ],
      "source": [
        "#Mencetak data terkecil dari data kolom bernama 'price' dengan function numpy np.min\n",
        "print(\"Min car price:\", np.min(data['price']))\n",
        "\n",
        "#Mencetak data terbesar dari data kolom bernama 'price' dengan function numpy np.max\n",
        "print(\"Max car price:\", np.max(data['price']))\n",
        "\n",
        "#Mencetak rata-rata/mean dari data kolom bernama 'price' dengan function numpy np.mean\n",
        "print(\"Mean car price:\", np.mean(data['price']))\n",
        "\n",
        "#Mencetak media dari data kolom bernama 'price' dengan function numpy np.media\n",
        "print(\"Median car price:\", np.median(data['price']))"
      ]
    },
    {
      "cell_type": "code",
      "execution_count": 16,
      "metadata": {
        "id": "r4zsC-6TLVFj"
      },
      "outputs": [],
      "source": [
        "#Menggunakan numpy functions untuk membuat fungsi untuk menghitung standar deviasi\n",
        "def stdUsingNumpyOnly(prices):\n",
        "  return np.sqrt(np.sum(np.power(np.subtract(prices, np.mean(prices)),2)/len(prices)))"
      ]
    },
    {
      "cell_type": "code",
      "execution_count": 15,
      "metadata": {
        "id": "V4vqwt0bMfVy"
      },
      "outputs": [],
      "source": [
        "#Menggunakan numpy functions untuk membuat fungsi untuk menghitung standar deviasi dengan cara lain\n",
        "def stdImplementation(prices):\n",
        "  meanPrice = np.mean(prices)\n",
        "  priceDiffSq = [np.power(price-meanPrice, 2) for price in prices]\n",
        "  priceDiffAvg = np.sum(priceDiffSq)/len(prices)\n",
        "  return np.sqrt(priceDiffAvg)"
      ]
    },
    {
      "cell_type": "code",
      "execution_count": 18,
      "metadata": {
        "colab": {
          "base_uri": "https://localhost:8080/"
        },
        "id": "JrDhCr3WNGcU",
        "outputId": "d0ab20bf-8aef-4c2f-e4ce-23f72c9d603a"
      },
      "outputs": [
        {
          "name": "stdout",
          "output_type": "stream",
          "text": [
            "Standard deviation using only numpy functions:  7969.54140103854\n",
            "Standard deviation by implementing std function:  7969.54140103854\n",
            "Standard deviation using Numpy's std function: 7969.54140103854\n"
          ]
        }
      ],
      "source": [
        "print(\"Standard deviation using only numpy functions: \", stdUsingNumpyOnly(data['price']))\n",
        "print(\"Standard deviation by implementing std function: \", stdImplementation(data['price']))\n",
        "print(\"Standard deviation using Numpy's std function:\", np.std(data['price']))"
      ]
    },
    {
      "cell_type": "code",
      "execution_count": 20,
      "metadata": {
        "colab": {
          "base_uri": "https://localhost:8080/"
        },
        "id": "Aj1Hdcc8Nfx4",
        "outputId": "3fccd57b-092a-4c10-ff7a-56059c09e3e1"
      },
      "outputs": [
        {
          "name": "stdout",
          "output_type": "stream",
          "text": [
            "Max volume: 846007.7  belongs to car  ('mercedes-benz', 'gas', 'four', 'sedan', 'rwd', 120.9, 208.1, 71.7, 56.7, 'eight', 308, 184, 14, 16, 40960)\n",
            "Min volume: 452643.2  belongs to car  ('chevrolet', 'gas', 'two', 'hatchback', 'fwd', 88.4, 141.1, 60.3, 53.2, 'three', 61, 48, 47, 53, 5151)\n"
          ]
        }
      ],
      "source": [
        "#Cara menghitung volume mobil dalam data set mobil yang digunakan\n",
        "carsVolume = np.multiply(np.multiply(data['length'], data['height']), data['width'])\n",
        "#Cara ke2\n",
        "carsVolume = data['length']* data['height']* data['width']\n",
        "#Cara ke3\n",
        "carsVolume = np.prod(np.vstack([data['length'], data['height'], data['width']]), axis=0)\n",
        "\n",
        "#Dari hasil penghitungan volume mobil tersebut, mencari volume mobil yang paling maksimal\n",
        "maxVolume = np.max(carsVolume)\n",
        "\n",
        "#dan juga volume yang terkecil\n",
        "minVolume = np.min(carsVolume)\n",
        "\n",
        "#Mencari mobil yang punya volume terbesar dengan maxVolume\n",
        "carWithMaxVolume = np.argmax(carsVolume)\n",
        "\n",
        "#Mencari mobil yang punya volume terkecil dengan minVolume\n",
        "carWithMinVolume = np.argmin(carsVolume)\n",
        "\n",
        "#Mencetak hasil mobil dengan volume terbesar dan volumenya\n",
        "print(\"Max volume:\", maxVolume, \" belongs to car \", data[carWithMaxVolume])\n",
        "\n",
        "#Mencetak hasil mobil dengan volume terkecil dan volumenya\n",
        "print(\"Min volume:\", minVolume, \" belongs to car \", data[carWithMinVolume])"
      ]
    },
    {
      "cell_type": "code",
      "execution_count": 21,
      "metadata": {
        "colab": {
          "base_uri": "https://localhost:8080/"
        },
        "id": "83cQdJYt_4T2",
        "outputId": "94b0d9a1-a592-4160-8135-8edb8ef9082f"
      },
      "outputs": [
        {
          "data": {
            "text/plain": [
              "20"
            ]
          },
          "execution_count": 21,
          "metadata": {},
          "output_type": "execute_result"
        }
      ],
      "source": [
        "#Cara mengkali 2 value dengan function numpy np.multiply\n",
        "par1 = 10\n",
        "par2 = 2\n",
        "np.multiply(par1, par2)\n"
      ]
    },
    {
      "cell_type": "code",
      "execution_count": 22,
      "metadata": {
        "colab": {
          "base_uri": "https://localhost:8080/"
        },
        "id": "vJZIVib9OwTu",
        "outputId": "6b59bd39-01bc-4727-b735-7a1e1b9fef5e"
      },
      "outputs": [
        {
          "name": "stdout",
          "output_type": "stream",
          "text": [
            "Unique bodystyles:  ['convertible' 'hardtop' 'hatchback' 'sedan' 'wagon']\n"
          ]
        }
      ],
      "source": [
        "#Untuk mencetak banyaknya jenis bodystyles yang ada dalam dataset yang dipakai\n",
        "print(\"Unique bodystyles: \", np.unique(data['bodystyle']))"
      ]
    },
    {
      "cell_type": "code",
      "execution_count": null,
      "metadata": {
        "colab": {
          "base_uri": "https://localhost:8080/"
        },
        "id": "P3A6YGvxO3wr",
        "outputId": "112fe76a-490c-4c32-d173-04312eb86de4"
      },
      "outputs": [
        {
          "name": "stdout",
          "output_type": "stream",
          "text": [
            "There are  22 unique car makes which are: ['alfa-romero' 'audi' 'bmw' 'chevrolet' 'dodge' 'honda' 'isuzu' 'jaguar'\n",
            " 'mazda' 'mercedes-benz' 'mercury' 'mitsubishi' 'nissan' 'peugot'\n",
            " 'plymouth' 'porsche' 'renault' 'saab' 'subaru' 'toyota' 'volkswagen'\n",
            " 'volvo']\n"
          ]
        }
      ],
      "source": [
        "#Untuk mengambil banyaknya merek mobil yang ada di dataset dengan kolom \"make\"\n",
        "uniqueCarMakes = np.unique(data['make'])\n",
        "\n",
        "#dan mencetak banyaknya data dalam variable uniqueCarMakes yang isinya merek mobil yang ada dan apa saja\n",
        "print(\"There are \", len(uniqueCarMakes), \"unique car makes which are:\", uniqueCarMakes)"
      ]
    },
    {
      "cell_type": "code",
      "execution_count": null,
      "metadata": {
        "colab": {
          "base_uri": "https://localhost:8080/"
        },
        "id": "-TCvaweLPLkz",
        "outputId": "6c50f25c-3a26-458b-8777-03d02fa48722"
      },
      "outputs": [
        {
          "name": "stdout",
          "output_type": "stream",
          "text": [
            "A peugot with engine size=152 and horsepower=95 has the minimum fuel difference (0) when driven in the city and the highway\n",
            "A porsche with engine size=203 and horsepower=288 has the minimum fuel difference (11) when driven in the city and the highway\n"
          ]
        }
      ],
      "source": [
        "#untuk mengurangi data di kolom \"highwaympg\" dan \"citympg\" di masing masing baris dan di assign ke fuelDiff\n",
        "fuelDiff = np.subtract(data['highwaympg'], data['citympg'])\n",
        "\n",
        "#mencari data fuelDiff yang paling kecil\n",
        "minFuelDiff = np.min(fuelDiff)\n",
        "\n",
        "#mencari data fuelDiff yang paling besar\n",
        "maxFuelDiff = np.max(fuelDiff)\n",
        "\n",
        "#mencari mobil yang punya fuelDiff paling kecil\n",
        "carWithMinFuelDiff = np.argmin(fuelDiff)\n",
        "\n",
        "#mencari mobil yang punya fuelDiff yang paling besar\n",
        "carWithMaxFuelDiff = np.argmax(fuelDiff)\n",
        "\n",
        "#mencetak data merek mobil, enginesize mobil, horsepower mobil, dan fuelDifference, untuk mobil yang fuelDifference terkecil...\n",
        "print(\"A %s with engine size=%d and horsepower=%d has the minimum fuel difference (%d) when driven in the city and the highway\"\n",
        "      % (data['make'][carWithMinFuelDiff], data[\"enginesize\"][carWithMinFuelDiff], data['horsepower'][carWithMinFuelDiff], minFuelDiff))\n",
        "\n",
        "#dan juga terbesar\n",
        "print(\"A %s with engine size=%d and horsepower=%d has the minimum fuel difference (%d) when driven in the city and the highway\"\n",
        "      % (data['make'][carWithMaxFuelDiff], data[\"enginesize\"][carWithMaxFuelDiff], data['horsepower'][carWithMaxFuelDiff], maxFuelDiff))\n",
        "\n"
      ]
    },
    {
      "cell_type": "code",
      "execution_count": null,
      "metadata": {
        "colab": {
          "base_uri": "https://localhost:8080/"
        },
        "id": "m1V8mDpKQjqt",
        "outputId": "1b81c36b-98e8-4c2c-bc5f-acb80beb0d58"
      },
      "outputs": [
        {
          "name": "stdout",
          "output_type": "stream",
          "text": [
            "The company has 32 toyotacars \n"
          ]
        }
      ],
      "source": [
        "#mencari jenis jenis merek dari kolom data \"make\" dan mencari mana yang memiliki jumlah mobil terbanyak\n",
        "makes,counts = np.unique(data['make'], return_counts=True)\n",
        "maxCarsSameMake = np.argmax(counts)\n",
        "make = makes[maxCarsSameMake]\n",
        "\n",
        "#mencetak hasil merek yang memiliki mobil terbanyak dan jumlahnya\n",
        "print(\"The company has %d %scars \" % (np.max(counts), make))"
      ]
    },
    {
      "cell_type": "code",
      "execution_count": null,
      "metadata": {
        "colab": {
          "base_uri": "https://localhost:8080/"
        },
        "id": "Xba-19BGQ1d7",
        "outputId": "9add34fa-8f58-4e0e-936a-94b2a34f0bac"
      },
      "outputs": [
        {
          "name": "stdout",
          "output_type": "stream",
          "text": [
            "There are 63 cars whose wheel base is greater than 100\n"
          ]
        },
        {
          "data": {
            "text/plain": [
              "3"
            ]
          },
          "execution_count": 19,
          "metadata": {},
          "output_type": "execute_result"
        }
      ],
      "source": [
        "#Mencari mobil yang termasuk kedalam mobil dengan base ban yang besar yaitu lebih dari 100\n",
        "carsWithLargeWheelBase = np.count_nonzero(data['wheelbase']>100)\n",
        "\n",
        "#mencetak hasil pencarian tersebut\n",
        "print(\"There are %d cars whose wheel base is greater than 100\" %(carsWithLargeWheelBase))\n",
        "\n",
        "#Mencari mobil yang memiliki base ban lebih kecil dari 88.6\n",
        "np.count_nonzero(data['wheelbase']<88.6)\n",
        "\n",
        "#Mencari mobil yang memiliki base ban sebesar 110\n",
        "np.count_nonzero(data['wheelbase']==110)"
      ]
    },
    {
      "cell_type": "code",
      "execution_count": null,
      "metadata": {
        "colab": {
          "base_uri": "https://localhost:8080/"
        },
        "id": "TRvmiLxkRX_z",
        "outputId": "3af4555f-bba5-4a78-b729-5afa476e7228"
      },
      "outputs": [
        {
          "name": "stdout",
          "output_type": "stream",
          "text": [
            "Details of convertible that cost less than £15000:\n",
            " [('alfa-romero', 'gas', 'two', 'convertible', 'rwd', 88.6, 168.8, 64.1, 48.8, 'four', 130, 111, 21, 27, 13495)\n",
            " ('volkswagen', 'gas', 'two', 'convertible', 'fwd', 94.5, 159.3, 64.2, 55.6, 'four', 109,  90, 24, 29, 11595)]\n"
          ]
        }
      ],
      "source": [
        "#Mencari mobil yang punya bodystyle berupa convertible dan berharga kurang dari <£15000\n",
        "cheapConvertibles = data[(data['bodystyle']==\"convertible\") & (data['price']<15000)]\n",
        "\n",
        "#Mencetak hasil pencarian\n",
        "print(\"Details of convertible that cost less than £15000:\\n\", cheapConvertibles)"
      ]
    },
    {
      "cell_type": "code",
      "execution_count": null,
      "metadata": {
        "colab": {
          "base_uri": "https://localhost:8080/"
        },
        "id": "3_sbtg0GRtpY",
        "outputId": "432e7b35-f48b-437c-94ee-795a69e9318c"
      },
      "outputs": [
        {
          "name": "stdout",
          "output_type": "stream",
          "text": [
            "Price IQR 8715.0\n"
          ]
        }
      ],
      "source": [
        "#Mencetak rentang interkuartil dari semua data harga di dataset\n",
        "Q3P = np.percentile(data['price'], 75) #Mencari kuartil ke 3 terlebih dahulu\n",
        "Q1P = np.percentile(data['price'], 25) #Mencari kuartil pertama\n",
        "IQRP = Q3P - Q1P #Mengurangi kuartil ke 3 dan 1 untuk mendapatkan rentang interkuartil\n",
        "print('Price IQR', IQRP) #Mencetak hasil perhitungan"
      ]
    },
    {
      "cell_type": "code",
      "execution_count": null,
      "metadata": {
        "colab": {
          "base_uri": "https://localhost:8080/"
        },
        "id": "gGKpp3NnSAIQ",
        "outputId": "a87e5baf-aa5a-4a09-a277-6a9f39ea9270"
      },
      "outputs": [
        {
          "name": "stdout",
          "output_type": "stream",
          "text": [
            "Horsepower 50th percentile: 95.0\n",
            "Medianhorsepower: 95.0\n"
          ]
        }
      ],
      "source": [
        "#Perhitungan percentile range ke 50 untuk data horsepower dari data semua mobil yang memiliki nilai yang sama dengan kuartil 50\n",
        "percentile50HP = np.percentile(data['horsepower'], 50)\n",
        "\n",
        "print('Horsepower 50th percentile:', percentile50HP) #Mencetak hasil perhitungan\n",
        "\n",
        "print(\"Medianhorsepower:\", np.median(data['horsepower'])) #Mencetak median dari data horsepower semua mobil pada dataset"
      ]
    }
  ],
  "metadata": {
    "colab": {
      "provenance": []
    },
    "kernelspec": {
      "display_name": "Python 3",
      "name": "python3"
    },
    "language_info": {
      "name": "python"
    }
  },
  "nbformat": 4,
  "nbformat_minor": 0
}
