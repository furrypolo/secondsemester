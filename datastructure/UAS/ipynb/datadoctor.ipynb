{
 "cells": [
  {
   "cell_type": "code",
   "execution_count": 17,
   "metadata": {},
   "outputs": [],
   "source": [
    "import pandas as pd"
   ]
  },
  {
   "cell_type": "code",
   "execution_count": 18,
   "metadata": {},
   "outputs": [],
   "source": [
    "pat = pd.read_excel(\"try2.xlsx\", sheet_name=\"Sheet1\");"
   ]
  },
  {
   "cell_type": "code",
   "execution_count": 19,
   "metadata": {},
   "outputs": [
    {
     "data": {
      "text/html": [
       "<div>\n",
       "<style scoped>\n",
       "    .dataframe tbody tr th:only-of-type {\n",
       "        vertical-align: middle;\n",
       "    }\n",
       "\n",
       "    .dataframe tbody tr th {\n",
       "        vertical-align: top;\n",
       "    }\n",
       "\n",
       "    .dataframe thead th {\n",
       "        text-align: right;\n",
       "    }\n",
       "</style>\n",
       "<table border=\"1\" class=\"dataframe\">\n",
       "  <thead>\n",
       "    <tr style=\"text-align: right;\">\n",
       "      <th></th>\n",
       "      <th>No</th>\n",
       "      <th>Nama Lengkap</th>\n",
       "      <th>Alamat Lengkap</th>\n",
       "      <th>Jenis Kelamin</th>\n",
       "      <th>Telepon</th>\n",
       "      <th>Nomor KTP</th>\n",
       "      <th>Riwayat Penyakit</th>\n",
       "      <th>Dokter</th>\n",
       "      <th>Date</th>\n",
       "    </tr>\n",
       "  </thead>\n",
       "  <tbody>\n",
       "    <tr>\n",
       "      <th>0</th>\n",
       "      <td>1</td>\n",
       "      <td>Amanda Cahaya</td>\n",
       "      <td>Jl. Gatot Subroto No. 6, Kabupaten Kepulauan A...</td>\n",
       "      <td>P</td>\n",
       "      <td>81234567891</td>\n",
       "      <td>320206050491003</td>\n",
       "      <td>Epilepsi</td>\n",
       "      <td>Dr. Kareem Bauer</td>\n",
       "      <td>12 Juni 1991</td>\n",
       "    </tr>\n",
       "    <tr>\n",
       "      <th>1</th>\n",
       "      <td>2</td>\n",
       "      <td>Anindita Dewi</td>\n",
       "      <td>Jl. RE Martadinata No. 37, Kabupaten Karangase...</td>\n",
       "      <td>P</td>\n",
       "      <td>87654321098</td>\n",
       "      <td>320206050491109</td>\n",
       "      <td>Batu Ginjal</td>\n",
       "      <td>Dr. Kaitlyn Maki</td>\n",
       "      <td>7 April 1991</td>\n",
       "    </tr>\n",
       "    <tr>\n",
       "      <th>2</th>\n",
       "      <td>3</td>\n",
       "      <td>Nadya Pratiwi</td>\n",
       "      <td>Jl. Gatot Subroto No. 40, Kabupaten Kepulauan ...</td>\n",
       "      <td>P</td>\n",
       "      <td>89876543210</td>\n",
       "      <td>320206050491001</td>\n",
       "      <td>Anemia</td>\n",
       "      <td>Dr. Lucrecia DeLorenzo</td>\n",
       "      <td>14 Juni 2004</td>\n",
       "    </tr>\n",
       "    <tr>\n",
       "      <th>3</th>\n",
       "      <td>4</td>\n",
       "      <td>Dina Maharani Sari</td>\n",
       "      <td>Jl. Imam Bonjol No. 18, Kabupaten Bone\\tWatamp...</td>\n",
       "      <td>P</td>\n",
       "      <td>85432109876</td>\n",
       "      <td>320206050491002</td>\n",
       "      <td>Kanker Hati</td>\n",
       "      <td>Dr. Latoya Kalleg</td>\n",
       "      <td>12 Juni 1996</td>\n",
       "    </tr>\n",
       "    <tr>\n",
       "      <th>4</th>\n",
       "      <td>5</td>\n",
       "      <td>Rini Puspita Lestari</td>\n",
       "      <td>Jl. MT Haryono No. 40, Kabupaten Bemgkulu Teng...</td>\n",
       "      <td>P</td>\n",
       "      <td>82345678901</td>\n",
       "      <td>320206050491004</td>\n",
       "      <td>Demam Berdarah</td>\n",
       "      <td>Dr. Myong Turco</td>\n",
       "      <td>10 Juli 2015</td>\n",
       "    </tr>\n",
       "  </tbody>\n",
       "</table>\n",
       "</div>"
      ],
      "text/plain": [
       "   No          Nama Lengkap  \\\n",
       "0   1         Amanda Cahaya   \n",
       "1   2         Anindita Dewi   \n",
       "2   3         Nadya Pratiwi   \n",
       "3   4    Dina Maharani Sari   \n",
       "4   5  Rini Puspita Lestari   \n",
       "\n",
       "                                      Alamat Lengkap Jenis Kelamin  \\\n",
       "0  Jl. Gatot Subroto No. 6, Kabupaten Kepulauan A...             P   \n",
       "1  Jl. RE Martadinata No. 37, Kabupaten Karangase...             P   \n",
       "2  Jl. Gatot Subroto No. 40, Kabupaten Kepulauan ...             P   \n",
       "3  Jl. Imam Bonjol No. 18, Kabupaten Bone\\tWatamp...             P   \n",
       "4  Jl. MT Haryono No. 40, Kabupaten Bemgkulu Teng...             P   \n",
       "\n",
       "       Telepon        Nomor KTP Riwayat Penyakit                  Dokter  \\\n",
       "0  81234567891  320206050491003         Epilepsi        Dr. Kareem Bauer   \n",
       "1  87654321098  320206050491109      Batu Ginjal        Dr. Kaitlyn Maki   \n",
       "2  89876543210  320206050491001           Anemia  Dr. Lucrecia DeLorenzo   \n",
       "3  85432109876  320206050491002      Kanker Hati       Dr. Latoya Kalleg   \n",
       "4  82345678901  320206050491004   Demam Berdarah         Dr. Myong Turco   \n",
       "\n",
       "           Date  \n",
       "0  12 Juni 1991  \n",
       "1  7 April 1991  \n",
       "2  14 Juni 2004  \n",
       "3  12 Juni 1996  \n",
       "4  10 Juli 2015  "
      ]
     },
     "execution_count": 19,
     "metadata": {},
     "output_type": "execute_result"
    }
   ],
   "source": [
    "pat.head()"
   ]
  },
  {
   "cell_type": "code",
   "execution_count": 20,
   "metadata": {},
   "outputs": [
    {
     "data": {
      "text/plain": [
       "'Epilepsi'"
      ]
     },
     "execution_count": 20,
     "metadata": {},
     "output_type": "execute_result"
    }
   ],
   "source": [
    "pat['Riwayat Penyakit'][0]"
   ]
  },
  {
   "cell_type": "markdown",
   "metadata": {},
   "source": []
  },
  {
   "cell_type": "code",
   "execution_count": 21,
   "metadata": {},
   "outputs": [],
   "source": [
    "dat = pat\n",
    "dat = dat.drop(['No'], axis = 1)\n",
    "dat = dat.drop(['Nama Lengkap'], axis = 1)\n",
    "dat = dat.drop(['Alamat Lengkap'], axis = 1)\n",
    "dat = dat.drop(['Jenis Kelamin'], axis = 1)\n",
    "dat = dat.drop(['Telepon'], axis = 1)\n",
    "dat = dat.drop(['Nomor KTP'], axis = 1)\n",
    "dat = dat.drop(['Riwayat Penyakit'], axis = 1)\n",
    "dat = dat.drop(['Dokter'], axis = 1)\n",
    "dat = dat.drop(['Date'], axis = 1)"
   ]
  },
  {
   "cell_type": "code",
   "execution_count": 22,
   "metadata": {},
   "outputs": [],
   "source": [
    "disease = []\n",
    "doc = []\n",
    "count = 0\n",
    "\n",
    "for x in range(0, 100):\n",
    "    num = 0;\n",
    "    for y in range(0, len(disease)-1):\n",
    "        if(pat['Riwayat Penyakit'][x]==disease[y]):\n",
    "            num = num+1\n",
    "    if(num==0):\n",
    "        disease.append(pat['Riwayat Penyakit'][x])\n",
    "        doc.append(pat['Dokter'][x])\n",
    "        dat.loc[count, 'Penyakit'] = pat['Riwayat Penyakit'][x]\n",
    "        dat.loc[count, 'Dokter'] = pat['Dokter'][x]\n",
    "        count = count+1\n",
    "\n",
    "\n",
    "\n"
   ]
  },
  {
   "cell_type": "code",
   "execution_count": 23,
   "metadata": {},
   "outputs": [
    {
     "data": {
      "text/html": [
       "<div>\n",
       "<style scoped>\n",
       "    .dataframe tbody tr th:only-of-type {\n",
       "        vertical-align: middle;\n",
       "    }\n",
       "\n",
       "    .dataframe tbody tr th {\n",
       "        vertical-align: top;\n",
       "    }\n",
       "\n",
       "    .dataframe thead th {\n",
       "        text-align: right;\n",
       "    }\n",
       "</style>\n",
       "<table border=\"1\" class=\"dataframe\">\n",
       "  <thead>\n",
       "    <tr style=\"text-align: right;\">\n",
       "      <th></th>\n",
       "      <th>Penyakit</th>\n",
       "      <th>Dokter</th>\n",
       "    </tr>\n",
       "  </thead>\n",
       "  <tbody>\n",
       "    <tr>\n",
       "      <th>96</th>\n",
       "      <td>NaN</td>\n",
       "      <td>NaN</td>\n",
       "    </tr>\n",
       "    <tr>\n",
       "      <th>97</th>\n",
       "      <td>NaN</td>\n",
       "      <td>NaN</td>\n",
       "    </tr>\n",
       "    <tr>\n",
       "      <th>98</th>\n",
       "      <td>NaN</td>\n",
       "      <td>NaN</td>\n",
       "    </tr>\n",
       "    <tr>\n",
       "      <th>99</th>\n",
       "      <td>NaN</td>\n",
       "      <td>NaN</td>\n",
       "    </tr>\n",
       "    <tr>\n",
       "      <th>100</th>\n",
       "      <td>NaN</td>\n",
       "      <td>NaN</td>\n",
       "    </tr>\n",
       "  </tbody>\n",
       "</table>\n",
       "</div>"
      ],
      "text/plain": [
       "    Penyakit Dokter\n",
       "96       NaN    NaN\n",
       "97       NaN    NaN\n",
       "98       NaN    NaN\n",
       "99       NaN    NaN\n",
       "100      NaN    NaN"
      ]
     },
     "execution_count": 23,
     "metadata": {},
     "output_type": "execute_result"
    }
   ],
   "source": [
    "dat.tail()"
   ]
  },
  {
   "cell_type": "code",
   "execution_count": 24,
   "metadata": {},
   "outputs": [],
   "source": [
    "dat.to_excel('doctortry.xlsx');"
   ]
  }
 ],
 "metadata": {
  "kernelspec": {
   "display_name": "Python 3",
   "language": "python",
   "name": "python3"
  },
  "language_info": {
   "codemirror_mode": {
    "name": "ipython",
    "version": 3
   },
   "file_extension": ".py",
   "mimetype": "text/x-python",
   "name": "python",
   "nbconvert_exporter": "python",
   "pygments_lexer": "ipython3",
   "version": "3.12.2"
  }
 },
 "nbformat": 4,
 "nbformat_minor": 2
}
