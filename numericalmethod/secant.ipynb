{
 "cells": [
  {
   "cell_type": "code",
   "execution_count": 4,
   "metadata": {},
   "outputs": [],
   "source": [
    "import numpy as np"
   ]
  },
  {
   "cell_type": "code",
   "execution_count": 5,
   "metadata": {},
   "outputs": [],
   "source": [
    "def f(x):\n",
    "    return (0.5*x*(np.power(np.e, np.power(x, 0.5)))) - 2"
   ]
  },
  {
   "cell_type": "code",
   "execution_count": 8,
   "metadata": {},
   "outputs": [],
   "source": [
    "def secant(x0, x1, err):\n",
    "    iter=0\n",
    "    erra=100\n",
    "\n",
    "    while(erra>err):\n",
    "        iter+=1\n",
    "        print(\"Iterasi ke-%d\" %iter)\n",
    "\n",
    "        x2 = x1 - (f(x1) * (x1-x0))/(f(x1)-f(x0))\n",
    "        print(\"x1 \\t =  %.4f\" %(x1))\n",
    "        print(\"x0 \\t =  %.4f\" %(x0))\n",
    "        print(\"x2\\t= %.4f\" %(x2))\n",
    "        print(\"f(x1) \\t= %.4f\" %(f(x1)))\n",
    "        print(\"f(x0)) \\t= %.4f\" %(f(x0)))\n",
    "\n",
    "        if(iter>1):\n",
    "            erra = abs((x2-x1)/x2)*100\n",
    "            print(\"error \\t= %.4f\" %(erra))\n",
    "        \n",
    "        x0=x1\n",
    "        x1=x2"
   ]
  },
  {
   "cell_type": "code",
   "execution_count": 9,
   "metadata": {},
   "outputs": [
    {
     "name": "stdout",
     "output_type": "stream",
     "text": [
      "Iterasi ke-1\n",
      "x1 \t =  2.0000\n",
      "x0 \t =  1.0000\n",
      "x2\t= 1.2327\n",
      "f(x1) \t= 2.1133\n",
      "f(x0)) \t= -0.6409\n",
      "Iterasi ke-2\n",
      "x1 \t =  1.2327\n",
      "x0 \t =  2.0000\n",
      "x2\t= 1.2769\n",
      "f(x1) \t= -0.1293\n",
      "f(x0)) \t= 2.1133\n",
      "error \t= 3.4643\n"
     ]
    }
   ],
   "source": [
    "secant(1,2,4)"
   ]
  }
 ],
 "metadata": {
  "kernelspec": {
   "display_name": "Python 3",
   "language": "python",
   "name": "python3"
  },
  "language_info": {
   "codemirror_mode": {
    "name": "ipython",
    "version": 3
   },
   "file_extension": ".py",
   "mimetype": "text/x-python",
   "name": "python",
   "nbconvert_exporter": "python",
   "pygments_lexer": "ipython3",
   "version": "3.12.2"
  }
 },
 "nbformat": 4,
 "nbformat_minor": 2
}
