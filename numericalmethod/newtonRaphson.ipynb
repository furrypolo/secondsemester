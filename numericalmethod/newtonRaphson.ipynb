{
 "cells": [
  {
   "cell_type": "code",
   "execution_count": 1,
   "metadata": {},
   "outputs": [],
   "source": [
    "import numpy as np;"
   ]
  },
  {
   "cell_type": "code",
   "execution_count": 2,
   "metadata": {},
   "outputs": [],
   "source": [
    "def f(x):\n",
    "    return (0.5*x*(np.power(np.e, np.power(x, 0.5)))) - 2"
   ]
  },
  {
   "cell_type": "code",
   "execution_count": 3,
   "metadata": {},
   "outputs": [],
   "source": [
    "def turunan(x):\n",
    "    return (0.5 * np.power(np.e, np.sqrt(x)))*(1+(0.5*np.sqrt(x)))"
   ]
  },
  {
   "cell_type": "code",
   "execution_count": 13,
   "metadata": {},
   "outputs": [],
   "source": [
    "def newtonRaphson(x1, err):\n",
    "    erra=100\n",
    "    iterasi=0\n",
    "\n",
    "    while(erra>err):\n",
    "        iterasi+=1\n",
    "        print(\"iterasi = %d\" %iterasi)\n",
    "\n",
    "        x2 = x1 - f(x1)/turunan(x1)\n",
    "        print(\"xi \\t =  %.4f\" %(x1))\n",
    "        print(\"xi+1 \\t= %.4f\" %(x2))\n",
    "        print(\"f(xi) \\t= %.4f\" %(f(x1)))\n",
    "        print(\"f'(xi) \\t= %.4f\" %(turunan(x1)))\n",
    "\n",
    "        if(iterasi>1):\n",
    "            erra = abs((x2-x1)/x2)*100\n",
    "            print(\"error \\t= %.4f\" %(erra))\n",
    "        \n",
    "        x1=x2"
   ]
  },
  {
   "cell_type": "code",
   "execution_count": 14,
   "metadata": {},
   "outputs": [
    {
     "name": "stdout",
     "output_type": "stream",
     "text": [
      "Newton Raphson dari x=1 dan error target=4:\n",
      "iterasi = 1\n",
      "xi \t =  1.0000\n",
      "xi+1 \t= 1.3143\n",
      "f(xi) \t= -0.6409\n",
      "f'(xi) \t= 2.0387\n",
      "iterasi = 2\n",
      "xi \t =  1.3143\n",
      "xi+1 \t= 1.2868\n",
      "f(xi) \t= 0.0681\n",
      "f'(xi) \t= 2.4755\n",
      "error \t= 2.1385\n"
     ]
    }
   ],
   "source": [
    "print(\"Newton Raphson dari x=1 dan error target=4:\")\n",
    "newtonRaphson(1,4)\n"
   ]
  }
 ],
 "metadata": {
  "kernelspec": {
   "display_name": "Python 3",
   "language": "python",
   "name": "python3"
  },
  "language_info": {
   "codemirror_mode": {
    "name": "ipython",
    "version": 3
   },
   "file_extension": ".py",
   "mimetype": "text/x-python",
   "name": "python",
   "nbconvert_exporter": "python",
   "pygments_lexer": "ipython3",
   "version": "3.12.2"
  }
 },
 "nbformat": 4,
 "nbformat_minor": 2
}
