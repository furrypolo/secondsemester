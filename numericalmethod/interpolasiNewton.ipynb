{
 "cells": [
  {
   "cell_type": "code",
   "execution_count": 17,
   "metadata": {},
   "outputs": [],
   "source": [
    "import numpy as np"
   ]
  },
  {
   "cell_type": "code",
   "execution_count": 18,
   "metadata": {},
   "outputs": [],
   "source": [
    "def error(Ns, Ne):\n",
    "    return abs((Ns-Ne)/Ns)*100"
   ]
  },
  {
   "cell_type": "code",
   "execution_count": 19,
   "metadata": {},
   "outputs": [],
   "source": [
    "def ordeSatu(x, x0, x1, fx0, fx1, Ns):\n",
    "    Ne = (fx0 + ((fx1 - fx0)/(x1-x0))*(x-x0))\n",
    "\n",
    "    print(\"Interpolasi Newton Orde Satu:\")\n",
    "    print(\"Nilai Estimasi: %.4f\" %(Ne))\n",
    "    print(\"Error/Kesalahan Sebenarnya: %.4f\" %(error(Ns, Ne)))"
   ]
  },
  {
   "cell_type": "code",
   "execution_count": 20,
   "metadata": {},
   "outputs": [],
   "source": [
    "def ordeDua(X, x, fx, Ns):\n",
    "    b = []\n",
    "\n",
    "    b.append(fx[0])\n",
    "    for i in range(1, len(x)):\n",
    "        if(i == 1):\n",
    "            B = (fx[i] - fx[i-1])/(x[i] - x[0])\n",
    "            b.append(B)\n",
    "        elif(i == 2):\n",
    "            B = (((fx[i] - fx[i-1])/(x[i]-x[i-1])) - b[i-1])/(x[i]-x[0])\n",
    "            b.append(B)\n",
    "    \n",
    "\n",
    "    Ne = b[0]\n",
    "    for i in range(1, len(x)):\n",
    "        temp = 1\n",
    "        for j in range(0,i):\n",
    "            temp = temp * (X-x[j])\n",
    "        Ne += b[i]*temp\n",
    "    \n",
    "    print(\"Interpolasi Newton Orde Dua:\")\n",
    "    print(\"b0 = %.4f, b1 = %.4f, b2 = %.4f\" %(b[0], b[1], b[2]))\n",
    "    print(\"Nilai Estimasi: %.4f\" %(Ne))\n",
    "    print(\"Error/Kesalahan Sebenarnya: %.4f\" %(error(Ns, Ne)))"
   ]
  },
  {
   "cell_type": "code",
   "execution_count": 25,
   "metadata": {},
   "outputs": [],
   "source": [
    "def ordeTiga(X, x, fx, Ns):\n",
    "    n=len(x)\n",
    "    b=[0]*n\n",
    "\n",
    "    for i in range(n):\n",
    "        b[i] = fx[i]\n",
    "    \n",
    "    for j in range(1, n):\n",
    "        for i in range(n-1, j-1, -1):\n",
    "            b[i] = (b[i] - b[i-1])/(x[i] - x[i-j])\n",
    "        \n",
    "    Ne = b[n-1]\n",
    "    for i in range(n-2, -1, -1):\n",
    "        Ne = b[i]+(X-x[i])*Ne\n",
    "    \n",
    "    print(\"Interpolasi Newton Orde Tiga:\")\n",
    "    for i in range(i, n):\n",
    "        print(\"b%d = %.4f\" %(i, b[i]))\n",
    "    print(\"Nilai Estimasi: %.4f\" %(Ne))\n",
    "    print(\"Error/Kesalahan Sebenarnya: %.4f\" %(error(Ns, Ne)))"
   ]
  },
  {
   "cell_type": "code",
   "execution_count": 21,
   "metadata": {},
   "outputs": [
    {
     "name": "stdout",
     "output_type": "stream",
     "text": [
      "Interpolasi Newton Orde Satu:\n",
      "Nilai Estimasi: 53.8000\n",
      "Error/Kesalahan Sebenarnya: 3.7911\n"
     ]
    }
   ],
   "source": [
    "ordeSatu(11.5, 10.5, 12, 45.2, 58.1, 55.92)"
   ]
  },
  {
   "cell_type": "code",
   "execution_count": 22,
   "metadata": {},
   "outputs": [
    {
     "name": "stdout",
     "output_type": "stream",
     "text": [
      "Interpolasi Newton Orde Dua:\n",
      "b0 = 45.2000, b1 = 8.6000, b2 = -1.7632\n",
      "Nilai Estimasi: 54.6816\n",
      "Error/Kesalahan Sebenarnya: 2.2146\n"
     ]
    }
   ],
   "source": [
    "x = [10.5, 12, 12.4]\n",
    "fx = [45.2, 58.1, 60.2]\n",
    "ordeDua(11.5, x, fx, 55.92)"
   ]
  },
  {
   "cell_type": "code",
   "execution_count": 26,
   "metadata": {},
   "outputs": [
    {
     "name": "stdout",
     "output_type": "stream",
     "text": [
      "Interpolasi Newton Orde Tiga:\n",
      "b0 = 45.2000\n",
      "b1 = 8.6000\n",
      "b2 = -1.7632\n",
      "b3 = 3.6199\n",
      "Nilai Estimasi: 56.3105\n",
      "Error/Kesalahan Sebenarnya: 0.6983\n"
     ]
    }
   ],
   "source": [
    "x = [10.5, 12, 12.4, 12.8]\n",
    "fx = [45.2, 58.1, 60.2, 64.4]\n",
    "Ns = 55.92\n",
    "X = 11.5\n",
    "\n",
    "ordeTiga(X, x, fx, Ns)"
   ]
  },
  {
   "cell_type": "code",
   "execution_count": null,
   "metadata": {},
   "outputs": [],
   "source": []
  },
  {
   "cell_type": "code",
   "execution_count": 27,
   "metadata": {},
   "outputs": [],
   "source": [
    "import numpy as np\n",
    "def e (ne, ns):\n",
    "    return abs((ns-ne)/ns*100)\n",
    "\n",
    "def lagrange(x, fx, orde, x_baru, es):\n",
    "    x_temp=[]\n",
    "    fx_temp=[]\n",
    "\n",
    "    for i in range(len(x)):\n",
    "        if(x[i] < x_baru and x[i+1]>x_baru):\n",
    "            for j in range(orde+1):\n",
    "                x_temp.append(x[i+j])\n",
    "                fx_temp.append(fx[i+j])\n",
    "            break\n",
    "    \n",
    "    L = np.ones(orde+1)\n",
    "\n",
    "    for i in range(orde+1):\n",
    "        print(\"L%d = \" %(i))\n",
    "        for j in range(orde+1):\n",
    "            if(i != j):\n",
    "                print(\"x - x%d/x%d-x%d\" %(j, i, j))\n",
    "                temp = ((x_baru - x_temp[j])/(x_temp[i]-x_temp[j]))\n",
    "                L[i]*=temp\n",
    "        print(\"L%d = %.4f\" %(i, L[i]))\n",
    "        print()\n",
    "    \n",
    "    sum = 0\n",
    "    for i in range(orde+1):\n",
    "        sum += (L[i]*fx_temp[i])\n",
    "    \n",
    "    print(\"F%d(x)=%f\" %(orde, sum))\n",
    "    print(\"error: %.4f\" %(e(es, sum)))\n"
   ]
  },
  {
   "cell_type": "code",
   "execution_count": 30,
   "metadata": {},
   "outputs": [
    {
     "name": "stdout",
     "output_type": "stream",
     "text": [
      "L0 = \n",
      "x - x1/x0-x1\n",
      "x - x2/x0-x2\n",
      "x - x3/x0-x3\n",
      "L0 = 0.0892\n",
      "\n",
      "L1 = \n",
      "x - x0/x1-x0\n",
      "x - x2/x1-x2\n",
      "x - x3/x1-x3\n",
      "L1 = 2.4375\n",
      "\n",
      "L2 = \n",
      "x - x0/x2-x0\n",
      "x - x1/x2-x1\n",
      "x - x3/x2-x3\n",
      "L2 = -2.1382\n",
      "\n",
      "L3 = \n",
      "x - x0/x3-x0\n",
      "x - x1/x3-x1\n",
      "x - x2/x3-x2\n",
      "L3 = 0.6114\n",
      "\n",
      "F3(x)=56.310512\n",
      "error: 0.6935\n"
     ]
    }
   ],
   "source": [
    "x = [8.8, 9.6, 10.5, 12, 12.4, 12.8, 13.2]\n",
    "fx = [30.8, 37.1, 45.2, 58.1, 60.2, 64.4, 68.8]\n",
    "orde = 3\n",
    "es = 55.92\n",
    "X = 11.5\n",
    "\n",
    "lagrange(x,fx,orde,X,es)\n",
    "\n"
   ]
  }
 ],
 "metadata": {
  "kernelspec": {
   "display_name": "Python 3",
   "language": "python",
   "name": "python3"
  },
  "language_info": {
   "codemirror_mode": {
    "name": "ipython",
    "version": 3
   },
   "file_extension": ".py",
   "mimetype": "text/x-python",
   "name": "python",
   "nbconvert_exporter": "python",
   "pygments_lexer": "ipython3",
   "version": "3.12.2"
  }
 },
 "nbformat": 4,
 "nbformat_minor": 2
}
