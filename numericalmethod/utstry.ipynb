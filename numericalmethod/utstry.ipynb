{
 "cells": [
  {
   "cell_type": "code",
   "execution_count": null,
   "metadata": {},
   "outputs": [],
   "source": [
    "import numpy as np\n",
    "import matplotlib as plt"
   ]
  },
  {
   "cell_type": "code",
   "execution_count": 3,
   "metadata": {},
   "outputs": [],
   "source": [
    "def error(last, now):\n",
    "    fin = abs((now-last)/now)*100\n",
    "    return fin"
   ]
  },
  {
   "cell_type": "code",
   "execution_count": 4,
   "metadata": {},
   "outputs": [],
   "source": [
    "def f(x):\n",
    "    fin = ((1/2)*x*np.power(np.e, np.power(x, 0.5)))-2\n",
    "    return fin"
   ]
  },
  {
   "cell_type": "code",
   "execution_count": 50,
   "metadata": {},
   "outputs": [],
   "source": [
    "def grafik(x1,x2):\n",
    "    y=x1\n",
    "    subt = round(x2-x1,5)\n",
    "    if((subt<=1.0) & (subt>0.11)):\n",
    "        num=0.1\n",
    "    elif(subt>1):\n",
    "        num=1\n",
    "    elif((subt<=0.11) & (subt>0.01)):\n",
    "        num=0.01\n",
    "    else:\n",
    "        num=0.001\n",
    "\n",
    "    x = []\n",
    "    fx = []\n",
    "    while(y<=x2):\n",
    "        op = f(y)\n",
    "        fx.append(op)\n",
    "        x.append((round(y, 5)))\n",
    "        y+=num\n",
    "    \n",
    "    min=0;\n",
    "    max=0;\n",
    "\n",
    "    for n in range(len(x)):\n",
    "        if(fx[n]<0):\n",
    "            min = x[n]\n",
    "        if(fx[n]>0):\n",
    "            max = x[n]\n",
    "            break\n",
    "\n",
    "    return min, max\n",
    "        \n",
    "    "
   ]
  },
  {
   "cell_type": "code",
   "execution_count": null,
   "metadata": {},
   "outputs": [],
   "source": [
    "def biseksi(xi, xu, ea):\n",
    "    e = 100\n",
    "    bef = 0\n",
    "    iterasi = 0\n",
    "    while(e>ea):\n",
    "        iterasi += 1\n",
    "        xr = (xi+xu)/2\n",
    "        fxr = f(xr)\n",
    "        if(bef!=0):\n",
    "            e = error(bef, xr)\n",
    "        else:\n",
    "            e = '-'\n",
    "        fxi = f(xi)\n",
    "        fxu = f(xu)\n",
    "        print('xi : ', xi)\n",
    "        print('xu : ', xu)\n",
    "        print('f(xi) : ', fxi)\n",
    "        print('f(xu) : ')\n",
    "\n",
    "        if(fxr>0):\n",
    "            xu = xr\n",
    "        else:\n",
    "            xi = xr\n",
    "\n",
    "\n",
    "    return xi, xu, e\n"
   ]
  },
  {
   "cell_type": "code",
   "execution_count": null,
   "metadata": {},
   "outputs": [],
   "source": [
    "def akolade(xi, xu, ea):\n",
    "    e = 100\n",
    "    bef = 0\n",
    "    iterasi = 0\n",
    "    while(e>ea):\n",
    "        iterasi += 1\n",
    "        fxi = f(xi)\n",
    "        fxu = f(xu)\n",
    "        xr = xu - ((fxu * (xi-xu))/(fxi-fxu))\n",
    "        fxr = f(xr)\n",
    "        if(bef!=0):\n",
    "            e = error(bef, xr)\n",
    "        else:\n",
    "            e = '-'\n",
    "        \n",
    "        print('xi : ', xi)\n",
    "        print('xu : ', xu)\n",
    "        print('f(xi) : ', fxi)\n",
    "        print('f(xu) : ')\n",
    "\n",
    "        if(fxr>0):\n",
    "            xu = xr\n",
    "        else:\n",
    "            xi = xr\n",
    "\n",
    "\n",
    "    return xi, xu, e\n"
   ]
  },
  {
   "cell_type": "code",
   "execution_count": null,
   "metadata": {},
   "outputs": [],
   "source": [
    "def secant(x1, x0, ea):\n",
    "    fx1 = f(x1)\n",
    "    fx0 = f(x0)\n",
    "    ft = (fx1-fx0)/(x1-x0)\n",
    "    x2 = x1 - (fx1/ft)\n",
    "    x0 = x1\n",
    "    x1 = x2"
   ]
  },
  {
   "cell_type": "code",
   "execution_count": 65,
   "metadata": {},
   "outputs": [],
   "source": [
    "def regulafasi(xi, xu, es):\n",
    "    err = 100\n",
    "    bef = 0\n",
    "    iterasi = 0\n",
    "    xrr = []\n",
    "    e = []\n",
    "    while(err>es):\n",
    "        iterasi += 1\n",
    "        fxi = f(xi)\n",
    "        fxu = f(xu)\n",
    "        xr = xu - ((fxu * (xi-xu))/(fxi-fxu))\n",
    "        fxr = f(xr)\n",
    "        if(bef!=0):\n",
    "            err = error(bef, xr)\n",
    "        else:\n",
    "            err = '-'\n",
    "        bef = xr\n",
    "        xrr.append(xr)\n",
    "        print('iterasi ke-',iterasi)\n",
    "        print('xi : ', xi)\n",
    "        print('xu : ', xu)\n",
    "        print('f(xi) : ', fxi)\n",
    "        print('f(xu) : ', fxu)\n",
    "        print('xr : ', xr)\n",
    "        print('f(xr) : ', fxr)\n",
    "        print('error : ', err)\n",
    "        print()\n",
    "        if(err == '-'):\n",
    "            err = 100\n",
    "        else :\n",
    "            e.append(err)\n",
    "        \n",
    "\n",
    "        if(fxr>0):\n",
    "            xu = xr\n",
    "        else:\n",
    "            xi = xr\n",
    "    \n",
    "    plt.subplot(1,2,1)\n",
    "    plt.plot(range(2, iterasi+1), e, marker='o')\n",
    "    plt.ylabel(\"error\")\n",
    "    plt.xlabel(\"loop\")\n",
    "    plt.grid()\n",
    "    plt.axis([0,6,0,25])\n",
    "    plt.show()\n"
   ]
  },
  {
   "cell_type": "code",
   "execution_count": 66,
   "metadata": {},
   "outputs": [
    {
     "name": "stdout",
     "output_type": "stream",
     "text": [
      "iterasi ke- 1\n",
      "xi :  1\n",
      "xu :  2\n",
      "f(xi) :  -0.6408590857704775\n",
      "f(xu) :  2.1132503787829275\n",
      "xr :  1.2326919441723776\n",
      "f(xr) :  -0.12928674227572157\n",
      "error :  -\n",
      "\n",
      "iterasi ke- 2\n",
      "xi :  1.2326919441723776\n",
      "xu :  2\n",
      "f(xi) :  -0.12928674227572157\n",
      "f(xu) :  2.1132503787829275\n",
      "xr :  1.2769287855286713\n",
      "f(xr) :  -0.023508378249191386\n",
      "error :  3.4643154620387735\n",
      "\n",
      "iterasi ke- 3\n",
      "xi :  1.2769287855286713\n",
      "xu :  2\n",
      "f(xi) :  -0.023508378249191386\n",
      "f(xu) :  2.1132503787829275\n",
      "xr :  1.284883933275207\n",
      "f(xr) :  -0.004193122816686934\n",
      "error :  0.6191335684506305\n",
      "\n"
     ]
    }
   ],
   "source": [
    "regulafasi(1,2,3)"
   ]
  },
  {
   "cell_type": "code",
   "execution_count": 51,
   "metadata": {},
   "outputs": [
    {
     "name": "stdout",
     "output_type": "stream",
     "text": [
      "1.2\n",
      "1.3\n",
      "1.28\n",
      "1.29\n",
      "1.286\n",
      "1.287\n"
     ]
    }
   ],
   "source": [
    "result = grafik(1.0, 2.0)\n",
    "min, max = result\n",
    "print(min)\n",
    "print(max)\n",
    "\n",
    "hasil = grafik(min,max)\n",
    "min, max = hasil\n",
    "print(min)\n",
    "print(max)\n",
    "\n",
    "result = grafik(min, max)\n",
    "min, max = result\n",
    "print(min)\n",
    "print(max)"
   ]
  }
 ],
 "metadata": {
  "kernelspec": {
   "display_name": "Python 3",
   "language": "python",
   "name": "python3"
  },
  "language_info": {
   "codemirror_mode": {
    "name": "ipython",
    "version": 3
   },
   "file_extension": ".py",
   "mimetype": "text/x-python",
   "name": "python",
   "nbconvert_exporter": "python",
   "pygments_lexer": "ipython3",
   "version": "3.12.2"
  }
 },
 "nbformat": 4,
 "nbformat_minor": 2
}
